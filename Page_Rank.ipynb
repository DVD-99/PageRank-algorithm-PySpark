{
 "cells": [
  {
   "cell_type": "code",
   "execution_count": 5,
   "metadata": {},
   "outputs": [],
   "source": [
    "from pyspark import SparkContext, SparkConf\n",
    "import numpy as np"
   ]
  },
  {
   "cell_type": "code",
   "execution_count": 14,
   "metadata": {},
   "outputs": [],
   "source": [
    "conf = SparkConf()\n",
    "sc = SparkContext().getOrCreate(conf = conf)"
   ]
  },
  {
   "cell_type": "code",
   "execution_count": 15,
   "metadata": {},
   "outputs": [],
   "source": [
    "def page_rank(data_path, iterations, beta):\n",
    "    dataset = sc.textFile(data_path).map(lambda v: v.split(\"\\t\"))\n",
    "    Deg = dataset.groupByKey().mapValues(list) #This gets all the outgoing nodes into a group and sorts\n",
    "    Deg = Deg.map(lambda w: (int(w[0]),set(int(i) for i in w[1]))).sortByKey() #Removing the duplicates values and converting into integer\n",
    "    values = Deg.count() #getting the count of nodes \n",
    "#This is my RDD M martix where each row is a column in theortical M matrix\n",
    "    M = Deg.map(lambda w : np.array([(1/len(w[1]) if (i+1 in w[1]) else 0)for i in range(values)]))\n",
    "    \n",
    "#intializing the r(old) with 1/n\n",
    "    r = np.zeros(values)\n",
    "    r.fill(1/values)\n",
    "    \n",
    "# one is my 1 of size(n X 1) and transport is this whole term (1-beta)/n*1\n",
    "    one = np.ones(values)\n",
    "    transport = ((1 - beta)/values)*one\n",
    "    q = M.zipWithIndex() #adds index to every row in RDD\n",
    "    \n",
    "    for i in range(iterations):\n",
    "        print(\"Iteration: \", i+1)\n",
    "        q = M.zipWithIndex()\n",
    "        q = q.map(lambda w: (w +(r[w[1]],))) #adding rank value to each row in RDD\n",
    "        w = q.map(lambda w: (1, w[0]*w[2])) #multipying the r1 with M column\n",
    "        e = w.reduceByKey(lambda n1, n2 : n1 + n2) #adding all the rows of my M gives me this term (beta*M*r)\n",
    "        print(e.take(1))\n",
    "        e = e.map(lambda w: transport + w[1]*beta) #multiplying the probability and adding the transport vector\n",
    "        print(e.take(1))\n",
    "        r = np.array(e.collect()[0]) #collecting my (r new)\n",
    "        p = np.argsort(r) # sorting them by argument to print the top ranks\n",
    "        top5 = list(p[-5:])\n",
    "        for i in range(5):\n",
    "            g = top5.pop()\n",
    "            print(\"{}:{}\".format(g+1,r[g]))\n",
    "    return r"
   ]
  },
  {
   "cell_type": "code",
   "execution_count": 16,
   "metadata": {},
   "outputs": [
    {
     "name": "stdout",
     "output_type": "stream",
     "text": [
      "Iteration:  1\n",
      "[(1, array([0.03192576, 0.00343452, 0.00759199, 0.00642039, 0.0163079 ,\n",
      "       0.00518687, 0.00365909, 0.00522619, 0.01533507, 0.00485354,\n",
      "       0.00340115, 0.00603175, 0.02065115, 0.04198135, 0.00368687,\n",
      "       0.00737034, 0.00729167, 0.01605664, 0.00378943, 0.00444755,\n",
      "       0.0055636 , 0.01653125, 0.00274242, 0.00753968, 0.00698413,\n",
      "       0.01636158, 0.03495931, 0.00385844, 0.00796429, 0.0077061 ,\n",
      "       0.01618059, 0.00444444, 0.00503968, 0.00635256, 0.01589134,\n",
      "       0.00416306, 0.00363095, 0.00792832, 0.01723821, 0.04090808,\n",
      "       0.00435354, 0.00739358, 0.00632479, 0.01667067, 0.00352474,\n",
      "       0.0040609 , 0.0061271 , 0.01997197, 0.00418651, 0.00424242,\n",
      "       0.00696465, 0.01657789, 0.04151848, 0.00642857, 0.0095202 ,\n",
      "       0.00690152, 0.01710329, 0.00396368, 0.00395833, 0.0065803 ,\n",
      "       0.01577846, 0.00440909, 0.00364358, 0.00920375, 0.01711681,\n",
      "       0.03837941, 0.00296429, 0.00574242, 0.00687771, 0.01359246,\n",
      "       0.0045202 , 0.00344755, 0.00738387, 0.0170442 , 0.00386447,\n",
      "       0.00400433, 0.0064995 , 0.01527464, 0.01716782, 0.00292857,\n",
      "       0.003     , 0.00681025, 0.01531534, 0.00429762, 0.00355332,\n",
      "       0.00610256, 0.01585162, 0.00357875, 0.00339286, 0.00755231,\n",
      "       0.00629531, 0.01688459, 0.00368687, 0.00342796, 0.0078373 ,\n",
      "       0.01811483, 0.00413131, 0.00502778, 0.00763524, 0.01465065]))]\n",
      "[array([0.02754061, 0.00474762, 0.00807359, 0.00713631, 0.01504632,\n",
      "       0.00614949, 0.00492727, 0.00618095, 0.01426805, 0.00588283,\n",
      "       0.00472092, 0.0068254 , 0.01852092, 0.03558508, 0.00494949,\n",
      "       0.00789627, 0.00783333, 0.01484531, 0.00503155, 0.00555804,\n",
      "       0.00645088, 0.015225  , 0.00419394, 0.00803175, 0.0075873 ,\n",
      "       0.01508927, 0.02996745, 0.00508675, 0.00837143, 0.00816488,\n",
      "       0.01494447, 0.00555556, 0.00603175, 0.00708205, 0.01471308,\n",
      "       0.00533045, 0.00490476, 0.00834266, 0.01579056, 0.03472647,\n",
      "       0.00548283, 0.00791486, 0.00705983, 0.01533653, 0.00481979,\n",
      "       0.00524872, 0.00690168, 0.01797758, 0.00534921, 0.00539394,\n",
      "       0.00757172, 0.01526232, 0.03521479, 0.00714286, 0.00961616,\n",
      "       0.00752121, 0.01568263, 0.00517094, 0.00516667, 0.00726424,\n",
      "       0.01462277, 0.00552727, 0.00491486, 0.009363  , 0.01569345,\n",
      "       0.03270353, 0.00437143, 0.00659394, 0.00750216, 0.01287397,\n",
      "       0.00561616, 0.00475804, 0.0079071 , 0.01563536, 0.00509158,\n",
      "       0.00520346, 0.0071996 , 0.01421971, 0.01573426, 0.00434286,\n",
      "       0.0044    , 0.0074482 , 0.01425227, 0.0054381 , 0.00484266,\n",
      "       0.00688205, 0.0146813 , 0.004863  , 0.00471429, 0.00804185,\n",
      "       0.00703624, 0.01550767, 0.00494949, 0.00474237, 0.00826984,\n",
      "       0.01649186, 0.00530505, 0.00602222, 0.0081082 , 0.01372052])]\n",
      "14:0.03558508158508159\n",
      "53:0.035214785214785216\n",
      "40:0.03472646569117157\n",
      "66:0.03270352980352981\n",
      "27:0.02996744693215282\n",
      "Top 5 values:\n",
      "14:0.03558508158508159\n",
      "53:0.035214785214785216\n",
      "40:0.03472646569117157\n",
      "66:0.03270352980352981\n",
      "27:0.02996744693215282\n",
      "Bottom 5 Values:\n",
      "89:0.004714285714285714\n",
      "81:0.004399999999999999\n",
      "67:0.004371428571428571\n",
      "80:0.004342857142857142\n",
      "23:0.004193939393939394\n"
     ]
    }
   ],
   "source": [
    "r = page_rank(\"graph-small.txt\", 1, 0.8)\n",
    "p = np.argsort(r)\n",
    "bottom5 = list(p[:5])\n",
    "top5 = list(p[-5:])\n",
    "\n",
    "print(\"Top 5 values:\")\n",
    "for i in range(5):\n",
    "    g = top5.pop()\n",
    "    print(\"{}:{}\".format(g+1,r[g]))\n",
    "\n",
    "print(\"Bottom 5 Values:\")\n",
    "for i in range(5):\n",
    "    g = bottom5.pop()\n",
    "    print(\"{}:{}\".format(g+1,r[g]))\n",
    "    \n",
    "sc.stop()"
   ]
  },
  {
   "cell_type": "code",
   "execution_count": null,
   "metadata": {},
   "outputs": [],
   "source": []
  }
 ],
 "metadata": {
  "kernelspec": {
   "display_name": "Python 3",
   "language": "python",
   "name": "python3"
  },
  "language_info": {
   "codemirror_mode": {
    "name": "ipython",
    "version": 3
   },
   "file_extension": ".py",
   "mimetype": "text/x-python",
   "name": "python",
   "nbconvert_exporter": "python",
   "pygments_lexer": "ipython3",
   "version": "3.7.4"
  }
 },
 "nbformat": 4,
 "nbformat_minor": 2
}
